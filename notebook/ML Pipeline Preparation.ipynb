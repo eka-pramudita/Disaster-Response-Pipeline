{
 "cells": [
  {
   "cell_type": "markdown",
   "metadata": {},
   "source": [
    "# ML Pipeline Preparation\n",
    "Follow the instructions below to help you create your ML pipeline.\n",
    "### 1. Import libraries and load data from database.\n",
    "- Import Python libraries\n",
    "- Load dataset from database with [`read_sql_table`](https://pandas.pydata.org/pandas-docs/stable/generated/pandas.read_sql_table.html)\n",
    "- Define feature and target variables X and Y"
   ]
  },
  {
   "cell_type": "code",
   "execution_count": 1,
   "metadata": {},
   "outputs": [
    {
     "output_type": "stream",
     "name": "stderr",
     "text": [
      "[nltk_data] Downloading package punkt to\n[nltk_data]     C:\\Users\\ekaap\\AppData\\Roaming\\nltk_data...\n[nltk_data]   Package punkt is already up-to-date!\n[nltk_data] Downloading package wordnet to\n[nltk_data]     C:\\Users\\ekaap\\AppData\\Roaming\\nltk_data...\n[nltk_data]   Package wordnet is already up-to-date!\n[nltk_data] Downloading package averaged_perceptron_tagger to\n[nltk_data]     C:\\Users\\ekaap\\AppData\\Roaming\\nltk_data...\n[nltk_data]   Package averaged_perceptron_tagger is already up-to-\n[nltk_data]       date!\n"
     ]
    }
   ],
   "source": [
    "# import libraries\n",
    "\n",
    "import sys\n",
    "import re\n",
    "import nltk\n",
    "nltk.download(['punkt', 'wordnet', 'averaged_perceptron_tagger'])\n",
    "import pandas as pd\n",
    "import pickle\n",
    "import numpy as np\n",
    "from sqlalchemy import create_engine\n",
    "from nltk.tokenize import word_tokenize\n",
    "from nltk.stem import WordNetLemmatizer\n",
    "from sklearn.feature_extraction.text import CountVectorizer, TfidfTransformer\n",
    "from sklearn.ensemble import RandomForestClassifier\n",
    "from sklearn.model_selection import train_test_split\n",
    "from sklearn.pipeline import Pipeline\n",
    "from sklearn.multioutput import MultiOutputClassifier\n",
    "from sklearn.metrics import classification_report\n",
    "from sklearn.model_selection import GridSearchCV"
   ]
  },
  {
   "cell_type": "code",
   "execution_count": 5,
   "metadata": {},
   "outputs": [],
   "source": [
    "# load data from database\n",
    "engine = create_engine('sqlite:///disaster.db')\n",
    "df = pd.read_sql_table('disaster', engine)\n",
    "X = df['message']\n",
    "y = df.iloc[:, 4:]\n",
    "y.replace({'related': 2}, 1, inplace = True)\n",
    "category_names = list(y.columns)"
   ]
  },
  {
   "cell_type": "markdown",
   "metadata": {},
   "source": [
    "### 2. Write a tokenization function to process your text data"
   ]
  },
  {
   "cell_type": "code",
   "execution_count": 4,
   "metadata": {},
   "outputs": [],
   "source": [
    "def tokenize(text):\n",
    "    url_regex = 'http[s]?://(?:[a-zA-Z]|[0-9]|[$-_@.&+]|[!*\\(\\),]|(?:%[0-9a-fA-F][0-9a-fA-F]))+'\n",
    "    detected_urls = re.findall(url_regex, text)\n",
    "    for url in detected_urls:\n",
    "        text = text.replace(url, \"urlplaceholder\")\n",
    "\n",
    "    tokens = word_tokenize(text)\n",
    "    lemmatizer = WordNetLemmatizer()\n",
    "\n",
    "    clean_tokens = []\n",
    "    for tok in tokens:\n",
    "        clean_tok = lemmatizer.lemmatize(tok).lower().strip()\n",
    "        clean_tokens.append(clean_tok)\n",
    "\n",
    "    return clean_tokens"
   ]
  },
  {
   "cell_type": "markdown",
   "metadata": {},
   "source": [
    "### 3. Build a machine learning pipeline\n",
    "This machine pipeline should take in the `message` column as input and output classification results on the other 36 categories in the dataset. You may find the [MultiOutputClassifier](http://scikit-learn.org/stable/modules/generated/sklearn.multioutput.MultiOutputClassifier.html) helpful for predicting multiple target variables."
   ]
  },
  {
   "cell_type": "code",
   "execution_count": 5,
   "metadata": {},
   "outputs": [],
   "source": [
    "pipeline = Pipeline([\n",
    "        ('text_pipeline', Pipeline([\n",
    "            ('vect', CountVectorizer(tokenizer=tokenize)),\n",
    "            ('tfidf', TfidfTransformer())\n",
    "        ])),\n",
    "\n",
    "        ('clf', MultiOutputClassifier(RandomForestClassifier()))\n",
    "    ])"
   ]
  },
  {
   "cell_type": "markdown",
   "metadata": {},
   "source": [
    "### 4. Train pipeline\n",
    "- Split data into train and test sets\n",
    "- Train pipeline"
   ]
  },
  {
   "cell_type": "code",
   "execution_count": 6,
   "metadata": {
    "tags": []
   },
   "outputs": [
    {
     "output_type": "execute_result",
     "data": {
      "text/plain": [
       "Pipeline(steps=[('text_pipeline',\n",
       "                 Pipeline(steps=[('vect',\n",
       "                                  CountVectorizer(tokenizer=<function tokenize at 0x25D3AAD8>)),\n",
       "                                 ('tfidf', TfidfTransformer())])),\n",
       "                ('clf',\n",
       "                 MultiOutputClassifier(estimator=RandomForestClassifier()))])"
      ]
     },
     "metadata": {},
     "execution_count": 6
    }
   ],
   "source": [
    "X_train, X_test, y_train, y_test = train_test_split(X, y, test_size=0.3, random_state=0)\n",
    "\n",
    "# train classifier\n",
    "pipeline.fit(X_train, y_train)"
   ]
  },
  {
   "cell_type": "markdown",
   "metadata": {},
   "source": [
    "### 5. Test your model\n",
    "Report the f1 score, precision and recall for each output category of the dataset. You can do this by iterating through the columns and calling sklearn's `classification_report` on each."
   ]
  },
  {
   "cell_type": "code",
   "execution_count": 7,
   "metadata": {},
   "outputs": [
    {
     "output_type": "stream",
     "name": "stdout",
     "text": [
      "                        precision    recall  f1-score   support\n",
      "\n",
      "               related       0.67      0.96      0.79      2034\n",
      "               request       0.48      0.09      0.14      1080\n",
      "                 offer       0.00      0.00      0.00         4\n",
      "           aid_related       0.52      0.14      0.22      1189\n",
      "          medical_help       0.00      0.00      0.00       173\n",
      "      medical_products       0.00      0.00      0.00       104\n",
      "     search_and_rescue       0.00      0.00      0.00        64\n",
      "              security       0.00      0.00      0.00        40\n",
      "              military       0.00      0.00      0.00        13\n",
      "           child_alone       0.00      0.00      0.00         0\n",
      "                 water       0.00      0.00      0.00       226\n",
      "                  food       0.33      0.00      0.01       438\n",
      "               shelter       0.06      0.00      0.01       330\n",
      "              clothing       0.00      0.00      0.00        24\n",
      "                 money       0.00      0.00      0.00        28\n",
      "        missing_people       0.00      0.00      0.00        24\n",
      "              refugees       0.00      0.00      0.00        61\n",
      "                 death       0.00      0.00      0.00        74\n",
      "             other_aid       0.21      0.01      0.03       448\n",
      "infrastructure_related       0.00      0.00      0.00        93\n",
      "             transport       0.00      0.00      0.00        51\n",
      "             buildings       0.00      0.00      0.00       127\n",
      "           electricity       0.00      0.00      0.00        21\n",
      "                 tools       0.00      0.00      0.00        11\n",
      "             hospitals       0.00      0.00      0.00        15\n",
      "                 shops       0.00      0.00      0.00         7\n",
      "           aid_centers       0.00      0.00      0.00        23\n",
      "  other_infrastructure       0.00      0.00      0.00        55\n",
      "       weather_related       0.27      0.03      0.05       480\n",
      "                floods       0.00      0.00      0.00        73\n",
      "                 storm       0.30      0.03      0.05       101\n",
      "                  fire       0.00      0.00      0.00        15\n",
      "            earthquake       0.00      0.00      0.00       271\n",
      "                  cold       0.00      0.00      0.00        19\n",
      "         other_weather       0.25      0.02      0.03        59\n",
      "         direct_report       0.46      0.05      0.09      1053\n",
      "\n",
      "             micro avg       0.62      0.26      0.37      8828\n",
      "             macro avg       0.10      0.04      0.04      8828\n",
      "          weighted avg       0.39      0.26      0.25      8828\n",
      "           samples avg       0.61      0.29      0.34      8828\n",
      "\n",
      "c:\\Users\\ekaap\\OneDrive\\Documents\\Career\\Skill Up\\Udacity\\Projects\\Disaster-Response-Pipeline\\venv\\lib\\site-packages\\sklearn\\metrics\\_classification.py:1248: UndefinedMetricWarning: Precision and F-score are ill-defined and being set to 0.0 in labels with no predicted samples. Use `zero_division` parameter to control this behavior.\n",
      "  _warn_prf(average, modifier, msg_start, len(result))\n",
      "c:\\Users\\ekaap\\OneDrive\\Documents\\Career\\Skill Up\\Udacity\\Projects\\Disaster-Response-Pipeline\\venv\\lib\\site-packages\\sklearn\\metrics\\_classification.py:1248: UndefinedMetricWarning: Recall and F-score are ill-defined and being set to 0.0 in labels with no true samples. Use `zero_division` parameter to control this behavior.\n",
      "  _warn_prf(average, modifier, msg_start, len(result))\n",
      "c:\\Users\\ekaap\\OneDrive\\Documents\\Career\\Skill Up\\Udacity\\Projects\\Disaster-Response-Pipeline\\venv\\lib\\site-packages\\sklearn\\metrics\\_classification.py:1248: UndefinedMetricWarning: Precision and F-score are ill-defined and being set to 0.0 in samples with no predicted labels. Use `zero_division` parameter to control this behavior.\n",
      "  _warn_prf(average, modifier, msg_start, len(result))\n",
      "c:\\Users\\ekaap\\OneDrive\\Documents\\Career\\Skill Up\\Udacity\\Projects\\Disaster-Response-Pipeline\\venv\\lib\\site-packages\\sklearn\\metrics\\_classification.py:1248: UndefinedMetricWarning: Recall and F-score are ill-defined and being set to 0.0 in samples with no true labels. Use `zero_division` parameter to control this behavior.\n",
      "  _warn_prf(average, modifier, msg_start, len(result))\n"
     ]
    }
   ],
   "source": [
    "y_pred = pd.DataFrame(pipeline.predict(X_test))\n",
    "y_pred.columns = category_names\n",
    "print(classification_report(y_test, y_pred, target_names=category_names))"
   ]
  },
  {
   "cell_type": "markdown",
   "metadata": {},
   "source": [
    "### 6. Improve your model\n",
    "Use grid search to find better parameters. "
   ]
  },
  {
   "cell_type": "code",
   "execution_count": 8,
   "metadata": {},
   "outputs": [
    {
     "output_type": "execute_result",
     "data": {
      "text/plain": [
       "GridSearchCV(estimator=Pipeline(steps=[('text_pipeline',\n",
       "                                        Pipeline(steps=[('vect',\n",
       "                                                         CountVectorizer(tokenizer=<function tokenize at 0x25D3AAD8>)),\n",
       "                                                        ('tfidf',\n",
       "                                                         TfidfTransformer())])),\n",
       "                                       ('clf',\n",
       "                                        MultiOutputClassifier(estimator=RandomForestClassifier()))]),\n",
       "             param_grid={'clf__estimator__n_estimators': [25, 50],\n",
       "                         'text_pipeline__tfidf__use_idf': (True, False)})"
      ]
     },
     "metadata": {},
     "execution_count": 8
    }
   ],
   "source": [
    "parameters = {\n",
    "        'text_pipeline__vect__ngram_range': ((1, 1), (1, 2)),\n",
    "        'text_pipeline__vect__max_df': (0.5, 0.75, 1.0),\n",
    "        'text_pipeline__vect__max_features': (None, 2500, 5000),\n",
    "        'text_pipeline__tfidf__use_idf': (True, False),\n",
    "        'clf__estimator__n_estimators': [10, 25, 50],\n",
    "        'clf__estimator__min_samples_split': [2, 3, 4]\n",
    "    }\n",
    "\n",
    "cv = GridSearchCV(pipeline, param_grid=parameters)\n",
    "cv.fit(X_train, y_train)"
   ]
  },
  {
   "cell_type": "markdown",
   "metadata": {},
   "source": [
    "### 7. Test your model\n",
    "Show the accuracy, precision, and recall of the tuned model.  \n",
    "\n",
    "Since this project focuses on code quality, process, and  pipelines, there is no minimum performance metric needed to pass. However, make sure to fine tune your models for accuracy, precision and recall to make your project stand out - especially for your portfolio!"
   ]
  },
  {
   "cell_type": "code",
   "execution_count": 9,
   "metadata": {},
   "outputs": [
    {
     "output_type": "stream",
     "name": "stdout",
     "text": [
      "                        precision    recall  f1-score   support\n",
      "\n",
      "               related       0.67      0.95      0.78      2034\n",
      "               request       0.47      0.07      0.13      1080\n",
      "                 offer       0.00      0.00      0.00         4\n",
      "           aid_related       0.53      0.12      0.20      1189\n",
      "          medical_help       0.00      0.00      0.00       173\n",
      "      medical_products       1.00      0.01      0.02       104\n",
      "     search_and_rescue       0.00      0.00      0.00        64\n",
      "              security       0.00      0.00      0.00        40\n",
      "              military       0.00      0.00      0.00        13\n",
      "           child_alone       0.00      0.00      0.00         0\n",
      "                 water       0.00      0.00      0.00       226\n",
      "                  food       0.31      0.01      0.02       438\n",
      "               shelter       0.12      0.01      0.01       330\n",
      "              clothing       0.00      0.00      0.00        24\n",
      "                 money       0.00      0.00      0.00        28\n",
      "        missing_people       0.00      0.00      0.00        24\n",
      "              refugees       0.00      0.00      0.00        61\n",
      "                 death       0.00      0.00      0.00        74\n",
      "             other_aid       0.17      0.01      0.02       448\n",
      "infrastructure_related       0.00      0.00      0.00        93\n",
      "             transport       0.00      0.00      0.00        51\n",
      "             buildings       0.33      0.01      0.02       127\n",
      "           electricity       0.00      0.00      0.00        21\n",
      "                 tools       0.00      0.00      0.00        11\n",
      "             hospitals       0.00      0.00      0.00        15\n",
      "                 shops       0.00      0.00      0.00         7\n",
      "           aid_centers       0.00      0.00      0.00        23\n",
      "  other_infrastructure       0.00      0.00      0.00        55\n",
      "       weather_related       0.29      0.03      0.05       480\n",
      "                floods       0.00      0.00      0.00        73\n",
      "                 storm       0.25      0.02      0.04       101\n",
      "                  fire       0.00      0.00      0.00        15\n",
      "            earthquake       0.11      0.00      0.01       271\n",
      "                  cold       0.00      0.00      0.00        19\n",
      "         other_weather       0.33      0.02      0.03        59\n",
      "         direct_report       0.45      0.05      0.09      1053\n",
      "\n",
      "             micro avg       0.62      0.25      0.36      8828\n",
      "             macro avg       0.14      0.04      0.04      8828\n",
      "          weighted avg       0.40      0.25      0.24      8828\n",
      "           samples avg       0.60      0.28      0.33      8828\n",
      "\n",
      "c:\\Users\\ekaap\\OneDrive\\Documents\\Career\\Skill Up\\Udacity\\Projects\\Disaster-Response-Pipeline\\venv\\lib\\site-packages\\sklearn\\metrics\\_classification.py:1248: UndefinedMetricWarning: Precision and F-score are ill-defined and being set to 0.0 in labels with no predicted samples. Use `zero_division` parameter to control this behavior.\n",
      "  _warn_prf(average, modifier, msg_start, len(result))\n",
      "c:\\Users\\ekaap\\OneDrive\\Documents\\Career\\Skill Up\\Udacity\\Projects\\Disaster-Response-Pipeline\\venv\\lib\\site-packages\\sklearn\\metrics\\_classification.py:1248: UndefinedMetricWarning: Recall and F-score are ill-defined and being set to 0.0 in labels with no true samples. Use `zero_division` parameter to control this behavior.\n",
      "  _warn_prf(average, modifier, msg_start, len(result))\n",
      "c:\\Users\\ekaap\\OneDrive\\Documents\\Career\\Skill Up\\Udacity\\Projects\\Disaster-Response-Pipeline\\venv\\lib\\site-packages\\sklearn\\metrics\\_classification.py:1248: UndefinedMetricWarning: Precision and F-score are ill-defined and being set to 0.0 in samples with no predicted labels. Use `zero_division` parameter to control this behavior.\n",
      "  _warn_prf(average, modifier, msg_start, len(result))\n",
      "c:\\Users\\ekaap\\OneDrive\\Documents\\Career\\Skill Up\\Udacity\\Projects\\Disaster-Response-Pipeline\\venv\\lib\\site-packages\\sklearn\\metrics\\_classification.py:1248: UndefinedMetricWarning: Recall and F-score are ill-defined and being set to 0.0 in samples with no true labels. Use `zero_division` parameter to control this behavior.\n",
      "  _warn_prf(average, modifier, msg_start, len(result))\n"
     ]
    }
   ],
   "source": [
    "y_pred = pd.DataFrame(cv.predict(X_test))\n",
    "y_pred.columns = category_names\n",
    "print(classification_report(y_test, y_pred, target_names=category_names))"
   ]
  },
  {
   "cell_type": "markdown",
   "metadata": {},
   "source": [
    "### 8. Try improving your model further. Here are a few ideas:\n",
    "* try other machine learning algorithms\n",
    "* add other features besides the TF-IDF"
   ]
  },
  {
   "cell_type": "code",
   "execution_count": null,
   "metadata": {},
   "outputs": [],
   "source": []
  },
  {
   "cell_type": "markdown",
   "metadata": {},
   "source": [
    "### 9. Export your model as a pickle file"
   ]
  },
  {
   "cell_type": "code",
   "execution_count": 10,
   "metadata": {},
   "outputs": [],
   "source": [
    "model_filepath = 'saved_model'\n",
    "pickle.dump(cv, open(model_filepath, 'wb'))"
   ]
  },
  {
   "cell_type": "markdown",
   "metadata": {},
   "source": [
    "### 10. Use this notebook to complete `train.py`\n",
    "Use the template file attached in the Resources folder to write a script that runs the steps above to create a database and export a model based on a new dataset specified by the user."
   ]
  },
  {
   "cell_type": "code",
   "execution_count": null,
   "metadata": {},
   "outputs": [],
   "source": []
  }
 ],
 "metadata": {
  "kernelspec": {
   "name": "python3",
   "display_name": "Python 3.8.5  ('venv': venv)"
  },
  "language_info": {
   "codemirror_mode": {
    "name": "ipython",
    "version": 3
   },
   "file_extension": ".py",
   "mimetype": "text/x-python",
   "name": "python",
   "nbconvert_exporter": "python",
   "pygments_lexer": "ipython3",
   "version": "3.8.5"
  },
  "metadata": {
   "interpreter": {
    "hash": "8264fabbe24e7bb3792216cd776c4b06b1fed403b240c251bab1c83b41b379e6"
   }
  },
  "interpreter": {
   "hash": "8264fabbe24e7bb3792216cd776c4b06b1fed403b240c251bab1c83b41b379e6"
  }
 },
 "nbformat": 4,
 "nbformat_minor": 2
}